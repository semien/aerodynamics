{
 "cells": [
  {
   "cell_type": "code",
   "execution_count": 17,
   "metadata": {},
   "outputs": [
    {
     "name": "stdout",
     "output_type": "stream",
     "text": [
      "c | l | v | k | a | b >>291 3,3 1 1 320 250\n"
     ]
    },
    {
     "ename": "SyntaxError",
     "evalue": "invalid syntax (<string>, line 1)",
     "output_type": "error",
     "traceback": [
      "\u001b[0;36m  File \u001b[0;32m\"<string>\"\u001b[0;36m, line \u001b[0;32m1\u001b[0m\n\u001b[0;31m    291 3,3 1 1 320 250\u001b[0m\n\u001b[0m        ^\u001b[0m\n\u001b[0;31mSyntaxError\u001b[0m\u001b[0;31m:\u001b[0m invalid syntax\n"
     ]
    }
   ],
   "source": [
    "import numpy as np\n",
    "import pandas as pd\n",
    "\n",
    "table1 = pd.read_excel('../tables/table1.xlsx')\n",
    "col1 = table1.columns\n",
    "t1 = np.array(table1)\n",
    "\n",
    "table2 = pd.read_excel('../tables/table2.xlsx')\n",
    "col2 = table2.columns\n",
    "t2 = np.array(table2)\n",
    "\n",
    "table3 = pd.read_excel('../tables/table3.xlsx')\n",
    "col3 = table3.columns\n",
    "t3 = np.array(table3)\n",
    "\n",
    "\n",
    "def interpol2_3(d_e, v_f):\n",
    "    def find6i(d_e):\n",
    "        if col2.contains(d_e):\n",
    "            a = (col2 == d_e).argmax()\n",
    "            return (a,a,1)\n",
    "        else:\n",
    "            a = (col2 > d_e).argmax()\n",
    "            kf = (d_e - col2[a-1]) / (col2[a] - col2[a-1])\n",
    "            return (a-1, a, kf)\n",
    "\n",
    "    def find6j(v_f):\n",
    "        row1 = t2[:,0]\n",
    "        if (row1 == v_f).max() == True:\n",
    "            a = (row1 == v_f).argmax() + 2\n",
    "            return (a, a, 1)\n",
    "        else:\n",
    "            a = (row1 > v_f).argmax() + 2\n",
    "            kf = (v_f - row1[a-3]) / (row1[a] - row1[a-3])\n",
    "            return (a-3, a, kf)\n",
    "\n",
    "    i_1, i_2, ki = find6i(d_e)\n",
    "    j_1, j_2, kj = find6j(v_f)\n",
    "    A = (1 - ki) * (1 - kj) * t2[j_1,i_1]\n",
    "    B = (1 - kj) * ki * t2[j_1,i_2]\n",
    "    C = kj * (1 - ki) * t2[j_2,i_1]\n",
    "    D = ki * kj * t2[j_2,i_2]\n",
    "#     print(t2[j_1,i_1],t2[j_1,i_2],t2[j_2,i_1],t2[j_2,i_2])\n",
    "    return A + B + C + D\n",
    "\n",
    "\n",
    "def interpol3(K, v_f):\n",
    "    def find7i(K):\n",
    "        if col3.contains(K):\n",
    "            a = (col3 == K).argmax()\n",
    "            return (a,a,1)\n",
    "        else:\n",
    "            a = (col3 > K).argmax()\n",
    "            kf = (K - col3[a-1]) / (col3[a] - col3[a-1])\n",
    "            return (a-1, a, kf)\n",
    "    def find7j(v_f):\n",
    "        row1 = t3[:,0]\n",
    "        if (row1 == v_f).max() == True:\n",
    "            a = (row1 == v_f).argmax()\n",
    "            return (a,a,1)\n",
    "        else:\n",
    "            a = (row1 > v_f).argmax()\n",
    "            kf = (v_f - row1[a-1]) / (row1[a] - row1[a-1])\n",
    "            return (a-1,a, kf)\n",
    "    i_1, i_2, ki = find7i(K)\n",
    "    j_1, j_2, kj = find7j(v_f)\n",
    "    A = (1 - ki) * (1 - kj) * t3[j_1,i_1]\n",
    "    B = (1 - kj) * ki * t3[j_1,i_2]\n",
    "    C = kj * (1 - ki) * t3[j_2,i_1]\n",
    "    D = ki * kj * t3[j_2,i_2]\n",
    "    return A + B + C + D\n",
    "\n",
    "\n",
    "def sector_calculation(t_v, c, l, v, K):\n",
    "    F = c / (3600 * v) # 1\n",
    "    near_F = (abs(t1[:,2]-F)).argmin() # 2\n",
    "    a, b, F_n = t1[near_F] # 3\n",
    "    v_f = c / (3600 * F_n) # 4\n",
    "    d_e = 2*a*b/(a+b) # 5\n",
    "    R = interpol2_3(d_e, v_f) # 6\n",
    "    B = interpol3(K, v_f) # 7\n",
    "    Ptr = l * R * B # 8\n",
    "    Pt = 1.2 * 293 / (273+t_v) # 9\n",
    "    Pg = Pt * (v_f ** 2) / 2 # 10\n",
    "    return [c, l, a, b, d_e, F_n, v_f, R, B, Ptr, 0, 0, Pg]\n",
    "\n",
    "def sector_calculation_with_ab(t_v, c, l, v, K, a, b):\n",
    "    F_n = a*b/ 10**6\n",
    "    v_f = c / (3600 * F_n) # 4\n",
    "    d_e = 2*a*b/(a+b) # 5\n",
    "    R = interpol2_3(d_e, v_f) # 6\n",
    "    B = interpol3(K, v_f) # 7\n",
    "    Ptr = l * R * B # 8\n",
    "    Pt = 1.2 * 293 / (273+t_v) # 9\n",
    "    Pg = Pt * (v_f ** 2) / 2 # 10\n",
    "    return [c, l, a, b, d_e, F_n, v_f, R, B, Ptr, 0, 0, Pg]\n",
    "\n",
    "# answ_columns = ['c','l','a', 'b', 'd_e', 'F_n', 'v_f', 'R', 'B', 'P_tr', '-','-', 'P_g']\n",
    "# answers = []\n",
    "# i = 0\n",
    "# while True:\n",
    "# sector = str(input('c | l | v >>'))\n",
    "# sec = sector.split()\n",
    "# k = 0.1\n",
    "# t = 18\n",
    "# secn = np.array(sec)\n",
    "# secn = secn.reshape((secn.size // 3, 3))\n",
    "# print(secn)\n",
    "\n",
    "# def point(s):\n",
    "#     return '.'.join(s.split(','))\n",
    "\n",
    "# for sect in secn:\n",
    "#     c = float(point(sect[0]))\n",
    "#     l = float(point(sect[1]))\n",
    "#     v = float(point(sect[2]))\n",
    "#     sector1 = sector_calculation(t, c, l, v, k)\n",
    "#     answers += [sector1]\n",
    "#     i += 1\n",
    "#     print(i,\"-----\\n\")\n",
    "\n",
    "# n = len(answers)\n",
    "    \n",
    "# df = pd.DataFrame(data=answers, columns=answ_columns, index=np.arange(1,n+1))\n",
    "# df.to_excel('answer.xlsx')\n",
    "\n",
    "answ_columns = ['c','l','a', 'b', 'd_e', 'F_n', 'v_f', 'R', 'B', 'P_tr', '-','-', 'P_g']\n",
    "answers = []\n",
    "i = 0\n",
    "sector = str(input('t| c | l | v | k | a | b >>'))\n",
    "sec = sector.split()\n",
    "secn = np.array(sec)\n",
    "secn = secn.reshape((secn.size // 7, 7))\n",
    "print(secn)\n",
    "\n",
    "def point(s):\n",
    "    return '.'.join(s.split(','))\n",
    "\n",
    "for sect in secn:\n",
    "    t = float(point(sect[0]))\n",
    "    c = float(point(sect[1]))\n",
    "    l = float(point(sect[2]))\n",
    "    v = float(point(sect[3]))\n",
    "    k = float(point(sect[4]))\n",
    "    a = float(point(sect[5]))\n",
    "    b = float(point(sect[6]))\n",
    "    sector1 = sector_calculation_with_ab(t, c, l, v, k, a, b)\n",
    "    answers += [sector1]\n",
    "    i += 1\n",
    "    print(i,\"-----\\n\")\n",
    "\n",
    "n = len(answers)\n",
    "    \n",
    "df = pd.DataFrame(data=answers, columns=answ_columns, index=np.arange(1,n+1))\n",
    "df.to_excel('answer.xlsx')\n",
    "\n",
    "df"
   ]
  },
  {
   "cell_type": "code",
   "execution_count": 46,
   "metadata": {},
   "outputs": [
    {
     "data": {
      "text/plain": [
       "'4.5'"
      ]
     },
     "execution_count": 46,
     "metadata": {},
     "output_type": "execute_result"
    }
   ],
   "source": []
  },
  {
   "cell_type": "code",
   "execution_count": 2,
   "metadata": {},
   "outputs": [
    {
     "data": {
      "text/plain": [
       "204.25531914893617"
      ]
     },
     "execution_count": 2,
     "metadata": {},
     "output_type": "execute_result"
    }
   ],
   "source": [
    "2.*320.*150./(320.+150.)"
   ]
  },
  {
   "cell_type": "code",
   "execution_count": 3,
   "metadata": {},
   "outputs": [],
   "source": [
    "kms_otvod_table = pd.read_excel('../tables/otvod.xlsx')\n",
    "col_kms_otvod = kms_otvod_table.columns\n",
    "kms_otvod_tab = np.array(kms_otvod_table)\n",
    "def kms_otvod(a, b, angle):\n",
    "    if (angle != 90 and angle != 45):\n",
    "        print('pizdec')\n",
    "        return\n",
    "    row1 = kms_otvod_tab[:,0]\n",
    "    a_i = (row1 >= a).argmax()\n",
    "    b_i = (col_kms_otvod >= b).argmax()\n",
    "    if (angle == 90):\n",
    "        return kms_otvod_tab[a_i, b_i]\n",
    "    if (angle == 45):\n",
    "        return kms_otvod_tab[a_i + 1, b_i]    "
   ]
  },
  {
   "cell_type": "code",
   "execution_count": 55,
   "metadata": {},
   "outputs": [],
   "source": [
    "def find_i_in_col(i, col):\n",
    "        if col.contains(i):\n",
    "            a = (col == i).argmax()\n",
    "            return (a,a,1)\n",
    "        else:\n",
    "            a = (col < i).argmax()\n",
    "            kf = (i - col[a-1]) / (col[a] - col[a-1])\n",
    "            return (a-1, a, kf)\n",
    "        \n",
    "def find_j_in_row(j, row):\n",
    "        if (row == j).max() == True:\n",
    "            a = (row == j).argmax()\n",
    "            return (a,a,1)\n",
    "        else:\n",
    "            a = (row > j).argmax()\n",
    "            kf = (j - row[a-1]) / (row[a] - row[a-1])\n",
    "            return (a-1,a, kf)\n",
    "\n",
    "def kms_2inter(i, j, cols, table):\n",
    "#     print('-----------------')\n",
    "#     print(cols)\n",
    "#     print(table)\n",
    "    row = table[:,0]\n",
    "    i_1, i_2, ki = find_i_in_col(i, cols)\n",
    "    j_1, j_2, kj = find_j_in_row(j, row)\n",
    "#     print(i_1, i_2, ki, j_1, j_2, kj)\n",
    "#     print(table[j_1,i_1] , table[j_1,i_2], table[j_2,i_1], table[j_2,i_2])\n",
    "    A = (1 - ki)*table[j_1,i_1] + ki*table[j_1,i_2]\n",
    "    B = (1 - ki)*table[j_2,i_1] + ki*table[j_2,i_2]\n",
    "#     print(A,B)\n",
    "    return (1-kj)*A + kj*B"
   ]
  },
  {
   "cell_type": "code",
   "execution_count": 56,
   "metadata": {},
   "outputs": [],
   "source": [
    "kms_nagn_tr_pr_table = pd.read_excel('../tables/nagn_tr_pr.xlsx')\n",
    "col_kms_nagn_tr_pr = kms_nagn_tr_pr_table.columns\n",
    "kms_nagn_tr_pr_tab = np.array(kms_nagn_tr_pr_table)\n",
    "def kms_nagn_tr_pr(i, j): # i - расх отв/ствол j - пл прох/ствол\n",
    "    return kms_2inter(j, i, col_kms_nagn_tr_pr, kms_nagn_tr_pr_tab)"
   ]
  },
  {
   "cell_type": "code",
   "execution_count": 57,
   "metadata": {},
   "outputs": [],
   "source": [
    "kms_nagn_tr_otv_table = pd.read_excel('../tables/nagn_tr_otv.xlsx')\n",
    "col_kms_nagn_tr_otv = kms_nagn_tr_otv_table.columns\n",
    "kms_nagn_tr_otv_tab = np.array(kms_nagn_tr_otv_table)\n",
    "def kms_nagn_tr_otv(i, j): # i - расх отв/ствол j - пл отв/ствол\n",
    "    return kms_2inter(j, i, col_kms_nagn_tr_otv, kms_nagn_tr_otv_tab)"
   ]
  },
  {
   "cell_type": "code",
   "execution_count": 58,
   "metadata": {},
   "outputs": [],
   "source": [
    "def kms_i_in_3inter(i, row):\n",
    "#     print(i,row)\n",
    "    q,a,kf = 0,0,0\n",
    "    if (row == i).max() == True:\n",
    "        a = (row == i).argmax()\n",
    "        q,kf = (a,1)\n",
    "    else:\n",
    "        a = (row < i).argmax()\n",
    "        kf = (i - row[a-1]) / (row[a] - row[a-1])\n",
    "        q = a-1 \n",
    "#     print(q,a,kf)\n",
    "    indices = np.arange(0, row.size)\n",
    "#     print(indices[row == row[q]], indices[row == row[a]])\n",
    "    return (indices[row == row[q]], indices[row == row[a]], kf)\n",
    "\n",
    "def kms_3inter(i, j, k, cols, table):\n",
    "    row = table[:,0]\n",
    "    ind1, ind2, kf = kms_i_in_3inter(i, row)\n",
    "    \n",
    "#     print(ind1, ind2, kf)\n",
    "    \n",
    "    ans1 = kms_2inter(k, j, cols[1:], table[ind1,1:])\n",
    "    ans2 = kms_2inter(k, j, cols[1:], table[ind2,1:])\n",
    "#     print(ans1,ans2, 1-kf)\n",
    "    \n",
    "    return (1 - kf)*ans1 + kf*ans2\n",
    "    "
   ]
  },
  {
   "cell_type": "code",
   "execution_count": 59,
   "metadata": {},
   "outputs": [
    {
     "data": {
      "text/plain": [
       "0.37600000000000006"
      ]
     },
     "execution_count": 59,
     "metadata": {},
     "output_type": "execute_result"
    }
   ],
   "source": [
    "kms_nagn_tr_otv(0.76, 0.68)"
   ]
  },
  {
   "cell_type": "code",
   "execution_count": 60,
   "metadata": {},
   "outputs": [],
   "source": [
    "kms_vs_tr_pr_table = pd.read_excel('../tables/vs_tr_pr.xlsx')\n",
    "col_kms_vs_tr_pr = kms_vs_tr_pr_table.columns\n",
    "kms_vs_tr_pr_tab = np.array(kms_vs_tr_pr_table)\n",
    "def kms_vs_tr_pr(i, j, k): # i - пл прох/ствол j - расх отв/ствол k - пл отв/ствол\n",
    "    return kms_3inter(i, j, k, col_kms_vs_tr_pr, kms_vs_tr_pr_tab)"
   ]
  },
  {
   "cell_type": "code",
   "execution_count": 61,
   "metadata": {},
   "outputs": [],
   "source": [
    "kms_vs_tr_otv_table = pd.read_excel('../tables/vs_tr_otv.xlsx')\n",
    "col_kms_vs_tr_otv = kms_vs_tr_otv_table.columns\n",
    "kms_vs_tr_otv_tab = np.array(kms_vs_tr_otv_table)\n",
    "def kms_vs_tr_otv(i, j, k): # i - пл прох/ствол j - расх отв/ствол k - пл отв/ствол\n",
    "    return kms_3inter(i, j, k, col_kms_vs_tr_otv, kms_vs_tr_otv_tab)"
   ]
  },
  {
   "cell_type": "code",
   "execution_count": 62,
   "metadata": {},
   "outputs": [
    {
     "data": {
      "text/plain": [
       "0.58575"
      ]
     },
     "execution_count": 62,
     "metadata": {},
     "output_type": "execute_result"
    }
   ],
   "source": [
    "kms_vs_tr_pr(0.8, 0.327, 0.375)"
   ]
  },
  {
   "cell_type": "code",
   "execution_count": null,
   "metadata": {},
   "outputs": [],
   "source": []
  }
 ],
 "metadata": {
  "kernelspec": {
   "display_name": "Python 2",
   "language": "python",
   "name": "python2"
  },
  "language_info": {
   "codemirror_mode": {
    "name": "ipython",
    "version": 2
   },
   "file_extension": ".py",
   "mimetype": "text/x-python",
   "name": "python",
   "nbconvert_exporter": "python",
   "pygments_lexer": "ipython2",
   "version": "2.7.15"
  }
 },
 "nbformat": 4,
 "nbformat_minor": 2
}
